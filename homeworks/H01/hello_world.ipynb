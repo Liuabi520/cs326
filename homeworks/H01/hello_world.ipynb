{
 "cells": [
  {
   "cell_type": "markdown",
   "metadata": {},
   "source": [
    "# Hello, World!\n"
   ]
  },
  {
   "cell_type": "code",
   "execution_count": null,
   "metadata": {},
   "outputs": [],
   "source": [
    "%load_ext autoreload\n",
    "%autoreload 2\n",
    "\n",
    "from hello_world import hello_world"
   ]
  },
  {
   "cell_type": "markdown",
   "metadata": {},
   "source": [
    "Update the method in `hello_world.py` to print \"Hello, World!\" to the console."
   ]
  },
  {
   "cell_type": "code",
   "execution_count": null,
   "metadata": {},
   "outputs": [],
   "source": [
    "hello_world()"
   ]
  },
  {
   "cell_type": "markdown",
   "metadata": {},
   "source": [
    "## Local Testing\n",
    "\n",
    "You can pre-check your grade by running `pytest`."
   ]
  },
  {
   "cell_type": "code",
   "execution_count": 13,
   "metadata": {},
   "outputs": [
    {
     "name": "stdout",
     "output_type": "stream",
     "text": [
      "\u001b[1m============================= test session starts ==============================\u001b[0m\n",
      "platform darwin -- Python 3.10.13, pytest-7.4.0, pluggy-1.0.0\n",
      "rootdir: /Users/joshua/Documents/cs326/homeworks/H01\n",
      "plugins: anyio-4.2.0\n",
      "collected 1 item                                                               \u001b[0m\n",
      "\n",
      "hello_world_test.py \u001b[32m.\u001b[0m\u001b[32m                                                    [100%]\u001b[0m\n",
      "\n",
      "\u001b[32m============================== \u001b[32m\u001b[1m1 passed\u001b[0m\u001b[32m in 0.00s\u001b[0m\u001b[32m ===============================\u001b[0m\n"
     ]
    }
   ],
   "source": [
    "!pytest hello_world_test.py"
   ]
  },
  {
   "cell_type": "markdown",
   "metadata": {},
   "source": [
    "## Submission\n",
    "\n",
    "Submit your solutions in `hello_world.py` to receive a grade in Canvas using `submit.py` in your homeworks folder.\n",
    "\n",
    "Note: This option assumes you have environment variables set for `CS326_USERNAME` and `CS326_PASSWORD`. If you do not have these set, you can use the `--username` and `--password` options to specify your credentials."
   ]
  },
  {
   "cell_type": "code",
   "execution_count": 12,
   "metadata": {},
   "outputs": [
    {
     "name": "stdout",
     "output_type": "stream",
     "text": [
      "\n",
      "----------------------------------------\n",
      "Username: joshuadrc@gmail.com\n",
      "Uploaded: 2024-03-26T19:56:08Z\n",
      "Due: 2024-03-27T04:59:59Z\n",
      "Homework: hello_world.py\n",
      "Score: \u001b[92m100%\u001b[0m\n",
      "Late Penalty: 0\n",
      "Best Score: \u001b[92m100%\u001b[0m\n",
      "----------------------------------------\n",
      "============================= test session starts ==============================\n",
      "platform linux -- Python 3.10.13, pytest-8.1.1, pluggy-1.4.0 -- /layers/google.python.runtime/python/bin/python3\n",
      "cachedir: .pytest_cache\n",
      "rootdir: /tmp/tmp8uj0ncbf/cs326/homeworks/H01\n",
      "collecting ... collected 1 item\n",
      "\n",
      "../tmp/tmp8uj0ncbf/cs326/homeworks/H01/hello_world_test.py::TestHelloWorld::test_hello_world \u001b[92mPASSED\u001b[0m [100%]\n",
      "\n",
      "============================== 1 passed in 0.01s ===============================\n",
      "\n",
      "----------------------------------------\n",
      "\n"
     ]
    }
   ],
   "source": [
    "!python ../submit.py --submit-homework hello_world.py #--username <username> --password <password>"
   ]
  },
  {
   "cell_type": "markdown",
   "metadata": {},
   "source": []
  }
 ],
 "metadata": {
  "kernelspec": {
   "display_name": "cs326",
   "language": "python",
   "name": "python3"
  },
  "language_info": {
   "codemirror_mode": {
    "name": "ipython",
    "version": 3
   },
   "file_extension": ".py",
   "mimetype": "text/x-python",
   "name": "python",
   "nbconvert_exporter": "python",
   "pygments_lexer": "ipython3",
   "version": "3.10.13"
  }
 },
 "nbformat": 4,
 "nbformat_minor": 2
}
